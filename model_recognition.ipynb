{
 "cells": [
  {
   "cell_type": "code",
   "execution_count": 16,
   "metadata": {},
   "outputs": [],
   "source": [
    "import pandas as pd\n",
    "import numpy as np\n",
    "import tensorflow as tf\n",
    "import matplotlib.pyplot as plt\n",
    "from keras.preprocessing import image\n",
    "from sklearn.model_selection import train_test_split\n",
    "from sklearn.preprocessing import LabelEncoder\n",
    "from sklearn.metrics import accuracy_score, classification_report, confusion_matrix\n",
    "from tensorflow.keras import layers, models\n",
    "from tensorflow.keras.utils import to_categorical\n",
    "from tensorflow.keras.callbacks import ModelCheckpoint\n",
    "from tensorflow.keras.optimizers import Adam,RMSprop,SGD,Adamax\n",
    "from tensorflow.keras.callbacks import LearningRateScheduler\n",
    "from tensorflow.keras.layers import Dropout"
   ]
  },
  {
   "cell_type": "code",
   "execution_count": 18,
   "metadata": {},
   "outputs": [],
   "source": [
    "df = pd.read_csv('fer2013.csv')"
   ]
  },
  {
   "cell_type": "code",
   "execution_count": 19,
   "metadata": {},
   "outputs": [],
   "source": [
    "# Preprocess the data\n",
    "X = np.array(df['pixels'].apply(lambda x: np.fromstring(x, dtype=int, sep=' ')).tolist())\n",
    "X = X.reshape(-1, 48, 48, 1)  # Assuming images are 48x48 pixels\n",
    "y = to_categorical(df['emotion'].values)"
   ]
  },
  {
   "cell_type": "code",
   "execution_count": 20,
   "metadata": {},
   "outputs": [],
   "source": [
    "# Split the dataset into training and testing sets\n",
    "X_train, X_test, y_train, y_test = train_test_split(X, y, test_size=0.2, random_state=42)"
   ]
  },
  {
   "cell_type": "code",
   "execution_count": 62,
   "metadata": {},
   "outputs": [],
   "source": [
    "# Create a simple CNN model with Batch Normalization\n",
    "model = models.Sequential()\n",
    "\n",
    "# First Convolutional Layer with padding='same'\n",
    "model.add(layers.Conv2D(32, (3, 3), activation='relu', padding='same', input_shape=(48, 48, 1)))\n",
    "model.add(layers.BatchNormalization())\n",
    "model.add(layers.MaxPooling2D((2, 2)))\n",
    "\n",
    "# Second Convolutional Layer with padding='same'\n",
    "model.add(layers.Conv2D(64, (3, 3), activation='relu', padding='same'))\n",
    "model.add(layers.BatchNormalization())\n",
    "model.add(layers.MaxPooling2D((2, 2)))\n",
    "\n",
    "# Third Convolutional Layer with padding='same'\n",
    "model.add(layers.Conv2D(128, (3, 3), activation='relu', padding='same'))\n",
    "model.add(layers.BatchNormalization())\n",
    "model.add(layers.MaxPooling2D((2, 2)))\n",
    "\n",
    "model.add(layers.Flatten())\n",
    "\n",
    "# Dense Layer with padding='same'\n",
    "model.add(layers.Dense(128, activation='relu'))\n",
    "model.add(layers.BatchNormalization())\n",
    "model.add(Dropout(0.8))\n",
    "\n",
    "model.add(layers.Dense(7, activation='softmax'))"
   ]
  },
  {
   "cell_type": "code",
   "execution_count": 63,
   "metadata": {},
   "outputs": [],
   "source": [
    "\n",
    "# Compile the model\n",
    "model.compile(optimizer='adam', loss='categorical_crossentropy', metrics=['accuracy'])\n"
   ]
  },
  {
   "cell_type": "code",
   "execution_count": 35,
   "metadata": {},
   "outputs": [],
   "source": [
    "# Save the best model during training\n",
    "checkpoint = ModelCheckpoint('best_model.h5', save_best_only=True, monitor='val_accuracy', mode='max', verbose=1)"
   ]
  },
  {
   "cell_type": "code",
   "execution_count": 69,
   "metadata": {},
   "outputs": [
    {
     "name": "stdout",
     "output_type": "stream",
     "text": [
      "Epoch 1/20\n",
      "448/449 [============================>.] - ETA: 0s - loss: 0.2395 - accuracy: 0.9176\n",
      "Epoch 1: val_accuracy did not improve from 0.57997\n",
      "449/449 [==============================] - 40s 90ms/step - loss: 0.2393 - accuracy: 0.9177 - val_loss: 2.3323 - val_accuracy: 0.5443\n",
      "Epoch 2/20\n",
      "448/449 [============================>.] - ETA: 0s - loss: 0.2230 - accuracy: 0.9231\n",
      "Epoch 2: val_accuracy did not improve from 0.57997\n",
      "449/449 [==============================] - 38s 84ms/step - loss: 0.2231 - accuracy: 0.9231 - val_loss: 2.2010 - val_accuracy: 0.5582\n",
      "Epoch 3/20\n",
      "448/449 [============================>.] - ETA: 0s - loss: 0.2145 - accuracy: 0.9246\n",
      "Epoch 3: val_accuracy did not improve from 0.57997\n",
      "449/449 [==============================] - 37s 82ms/step - loss: 0.2145 - accuracy: 0.9245 - val_loss: 2.5658 - val_accuracy: 0.5365\n",
      "Epoch 4/20\n",
      "448/449 [============================>.] - ETA: 0s - loss: 0.2097 - accuracy: 0.9287\n",
      "Epoch 4: val_accuracy did not improve from 0.57997\n",
      "449/449 [==============================] - 36s 81ms/step - loss: 0.2100 - accuracy: 0.9286 - val_loss: 2.3062 - val_accuracy: 0.5619\n",
      "Epoch 5/20\n",
      "449/449 [==============================] - ETA: 0s - loss: 0.2064 - accuracy: 0.9277\n",
      "Epoch 5: val_accuracy did not improve from 0.57997\n",
      "449/449 [==============================] - 37s 82ms/step - loss: 0.2064 - accuracy: 0.9277 - val_loss: 2.3495 - val_accuracy: 0.5598\n",
      "Epoch 6/20\n",
      "448/449 [============================>.] - ETA: 0s - loss: 0.2013 - accuracy: 0.9312\n",
      "Epoch 6: val_accuracy did not improve from 0.57997\n",
      "449/449 [==============================] - 38s 85ms/step - loss: 0.2013 - accuracy: 0.9312 - val_loss: 2.3376 - val_accuracy: 0.5616\n",
      "Epoch 7/20\n",
      "448/449 [============================>.] - ETA: 0s - loss: 0.1945 - accuracy: 0.9329\n",
      "Epoch 7: val_accuracy did not improve from 0.57997\n",
      "449/449 [==============================] - 44s 99ms/step - loss: 0.1947 - accuracy: 0.9327 - val_loss: 2.4832 - val_accuracy: 0.5677\n",
      "Epoch 8/20\n",
      "448/449 [============================>.] - ETA: 0s - loss: 0.1922 - accuracy: 0.9337\n",
      "Epoch 8: val_accuracy did not improve from 0.57997\n",
      "449/449 [==============================] - 39s 86ms/step - loss: 0.1926 - accuracy: 0.9336 - val_loss: 2.6050 - val_accuracy: 0.5589\n",
      "Epoch 9/20\n",
      "448/449 [============================>.] - ETA: 0s - loss: 0.1832 - accuracy: 0.9378\n",
      "Epoch 9: val_accuracy did not improve from 0.57997\n",
      "449/449 [==============================] - 38s 85ms/step - loss: 0.1833 - accuracy: 0.9378 - val_loss: 2.5076 - val_accuracy: 0.5463\n",
      "Epoch 10/20\n",
      "448/449 [============================>.] - ETA: 0s - loss: 0.1750 - accuracy: 0.9411\n",
      "Epoch 10: val_accuracy did not improve from 0.57997\n",
      "449/449 [==============================] - 38s 84ms/step - loss: 0.1750 - accuracy: 0.9411 - val_loss: 2.4728 - val_accuracy: 0.5610\n",
      "Epoch 11/20\n",
      "449/449 [==============================] - ETA: 0s - loss: 0.1767 - accuracy: 0.9387\n",
      "Epoch 11: val_accuracy did not improve from 0.57997\n",
      "449/449 [==============================] - 38s 84ms/step - loss: 0.1767 - accuracy: 0.9387 - val_loss: 2.4807 - val_accuracy: 0.5575\n",
      "Epoch 12/20\n",
      "449/449 [==============================] - ETA: 0s - loss: 0.1789 - accuracy: 0.9381\n",
      "Epoch 12: val_accuracy did not improve from 0.57997\n",
      "449/449 [==============================] - 40s 89ms/step - loss: 0.1789 - accuracy: 0.9381 - val_loss: 2.4270 - val_accuracy: 0.5531\n",
      "Epoch 13/20\n",
      "449/449 [==============================] - ETA: 0s - loss: 0.1872 - accuracy: 0.9375\n",
      "Epoch 13: val_accuracy did not improve from 0.57997\n",
      "449/449 [==============================] - 40s 88ms/step - loss: 0.1872 - accuracy: 0.9375 - val_loss: 2.6402 - val_accuracy: 0.5521\n",
      "Epoch 14/20\n",
      "448/449 [============================>.] - ETA: 0s - loss: 0.1635 - accuracy: 0.9449\n",
      "Epoch 14: val_accuracy did not improve from 0.57997\n",
      "449/449 [==============================] - 38s 84ms/step - loss: 0.1640 - accuracy: 0.9449 - val_loss: 2.7845 - val_accuracy: 0.5417\n",
      "Epoch 15/20\n",
      "448/449 [============================>.] - ETA: 0s - loss: 0.1635 - accuracy: 0.9452\n",
      "Epoch 15: val_accuracy did not improve from 0.57997\n",
      "449/449 [==============================] - 37s 81ms/step - loss: 0.1636 - accuracy: 0.9451 - val_loss: 2.7812 - val_accuracy: 0.5502\n",
      "Epoch 16/20\n",
      "448/449 [============================>.] - ETA: 0s - loss: 0.1630 - accuracy: 0.9468\n",
      "Epoch 16: val_accuracy did not improve from 0.57997\n",
      "449/449 [==============================] - 37s 82ms/step - loss: 0.1631 - accuracy: 0.9468 - val_loss: 2.5447 - val_accuracy: 0.5609\n",
      "Epoch 17/20\n",
      "448/449 [============================>.] - ETA: 0s - loss: 0.1522 - accuracy: 0.9478\n",
      "Epoch 17: val_accuracy did not improve from 0.57997\n",
      "449/449 [==============================] - 36s 81ms/step - loss: 0.1523 - accuracy: 0.9478 - val_loss: 2.5110 - val_accuracy: 0.5617\n",
      "Epoch 18/20\n",
      "448/449 [============================>.] - ETA: 0s - loss: 0.1548 - accuracy: 0.9487\n",
      "Epoch 18: val_accuracy did not improve from 0.57997\n",
      "449/449 [==============================] - 37s 82ms/step - loss: 0.1548 - accuracy: 0.9487 - val_loss: 2.5877 - val_accuracy: 0.5676\n",
      "Epoch 19/20\n",
      "448/449 [============================>.] - ETA: 0s - loss: 0.1559 - accuracy: 0.9487\n",
      "Epoch 19: val_accuracy did not improve from 0.57997\n",
      "449/449 [==============================] - 38s 84ms/step - loss: 0.1558 - accuracy: 0.9487 - val_loss: 2.6106 - val_accuracy: 0.5609\n",
      "Epoch 20/20\n",
      "449/449 [==============================] - ETA: 0s - loss: 0.1472 - accuracy: 0.9502\n",
      "Epoch 20: val_accuracy did not improve from 0.57997\n",
      "449/449 [==============================] - 46s 102ms/step - loss: 0.1472 - accuracy: 0.9502 - val_loss: 2.5499 - val_accuracy: 0.5667\n"
     ]
    }
   ],
   "source": [
    "# Train the model\n",
    "history = model.fit(X_train, y_train, epochs=20, batch_size=64, validation_data=(X_test, y_test), callbacks=[checkpoint])"
   ]
  },
  {
   "cell_type": "code",
   "execution_count": 70,
   "metadata": {},
   "outputs": [
    {
     "name": "stdout",
     "output_type": "stream",
     "text": [
      "225/225 [==============================] - 3s 15ms/step\n"
     ]
    }
   ],
   "source": [
    "# Evaluate the model\n",
    "model.load_weights('best_model.h5')  # Load the best weights\n",
    "y_pred = model.predict(X_test)\n",
    "y_pred_labels = np.argmax(y_pred, axis=1)\n",
    "y_true_labels = np.argmax(y_test, axis=1)"
   ]
  },
  {
   "cell_type": "code",
   "execution_count": 71,
   "metadata": {},
   "outputs": [
    {
     "name": "stdout",
     "output_type": "stream",
     "text": [
      "Accuracy: 0.5799665645026469\n",
      "Confusion Matrix:\n",
      "[[ 433    2  111   89  187   19  144]\n",
      " [  37   21   19    7   13    2    3]\n",
      " [ 120    3  367   90  255  110   98]\n",
      " [  55    0   41 1467   83   24   95]\n",
      " [ 104    2  159   99  604   10  232]\n",
      " [  14    0   99   73   24  544   41]\n",
      " [  75    1   94  132  237   12  727]]\n",
      "Classification Report:\n",
      "              precision    recall  f1-score   support\n",
      "\n",
      "           0       0.52      0.44      0.48       985\n",
      "           1       0.72      0.21      0.32       102\n",
      "           2       0.41      0.35      0.38      1043\n",
      "           3       0.75      0.83      0.79      1765\n",
      "           4       0.43      0.50      0.46      1210\n",
      "           5       0.75      0.68      0.72       795\n",
      "           6       0.54      0.57      0.56      1278\n",
      "\n",
      "    accuracy                           0.58      7178\n",
      "   macro avg       0.59      0.51      0.53      7178\n",
      "weighted avg       0.58      0.58      0.58      7178\n",
      "\n"
     ]
    }
   ],
   "source": [
    "accuracy = accuracy_score(y_true_labels, y_pred_labels)\n",
    "conf_matrix = confusion_matrix(y_true_labels, y_pred_labels)\n",
    "classification_rep = classification_report(y_true_labels, y_pred_labels)\n",
    "\n",
    "print(f'Accuracy: {accuracy}')\n",
    "print(f'Confusion Matrix:\\n{conf_matrix}')\n",
    "print(f'Classification Report:\\n{classification_rep}')"
   ]
  },
  {
   "cell_type": "code",
   "execution_count": 44,
   "metadata": {},
   "outputs": [
    {
     "data": {
      "image/png": "[encoded data removed]",
      "text/plain": [
       "<Figure size 640x480 with 1 Axes>"
      ]
     },
     "metadata": {},
     "output_type": "display_data"
    }
   ],
   "source": [
    "# Plot training history\n",
    "plt.plot(history.history['accuracy'], label='Training Accuracy')\n",
    "plt.plot(history.history['val_accuracy'], label='Validation Accuracy')\n",
    "plt.xlabel('Epoch')\n",
    "plt.ylabel('Accuracy')\n",
    "plt.legend()\n",
    "plt.show()"
   ]
  },
  {
   "cell_type": "code",
   "execution_count": 45,
   "metadata": {},
   "outputs": [
    {
     "name": "stdout",
     "output_type": "stream",
     "text": [
      "(48, 48)\n"
     ]
    },
    {
     "data": {
      "image/png": "[encoded data removed]",
      "text/plain": [
       "<Figure size 640x480 with 1 Axes>"
      ]
     },
     "metadata": {},
     "output_type": "display_data"
    }
   ],
   "source": [
    "img = image.load_img(\"pics\\happy3.jpg\",target_size = (48,48),color_mode = \"grayscale\")\n",
    "img = np.array(img)\n",
    "plt.imshow(img)\n",
    "print(img.shape) #prints (48,48) that is the shape of our image"
   ]
  },
  {
   "cell_type": "code",
   "execution_count": 46,
   "metadata": {},
   "outputs": [],
   "source": [
    "label_dict = {0:'Angry',1:'Disgust',2:'Fear',3:'Happy',4:'Neutral',5:'Sad',6:'Surprise'}"
   ]
  },
  {
   "cell_type": "code",
   "execution_count": 47,
   "metadata": {},
   "outputs": [
    {
     "name": "stdout",
     "output_type": "stream",
     "text": [
      "1/1 [==============================] - 0s 106ms/step\n",
      "[1.5008413e-06, 3.6390193e-07, 3.3208522e-07, 0.99997914, 3.9727342e-06, 6.018232e-07, 1.4151427e-05]\n"
     ]
    }
   ],
   "source": [
    "img = np.expand_dims(img,axis = 0) #makes image shape (1,48,48)\n",
    "img = img.reshape(1,48,48,1)\n",
    "result = model.predict(img)\n",
    "result = list(result[0])\n",
    "print(result)"
   ]
  },
  {
   "cell_type": "code",
   "execution_count": 48,
   "metadata": {},
   "outputs": [
    {
     "name": "stdout",
     "output_type": "stream",
     "text": [
      "Happy\n"
     ]
    }
   ],
   "source": [
    "img_index = result.index(max(result))\n",
    "print(label_dict[img_index])\n",
    "plt.show()"
   ]
  },
  {
   "cell_type": "code",
   "execution_count": 49,
   "metadata": {},
   "outputs": [
    {
     "name": "stdout",
     "output_type": "stream",
     "text": [
      "0.5728615213151296\n"
     ]
    }
   ],
   "source": [
    "print(accuracy)"
   ]
  }
 ],
 "metadata": {
  "kernelspec": {
   "display_name": "Python 3",
   "language": "python",
   "name": "python3"
  },
  "language_info": {
   "codemirror_mode": {
    "name": "ipython",
    "version": 3
   },
   "file_extension": ".py",
   "mimetype": "text/x-python",
   "name": "python",
   "nbconvert_exporter": "python",
   "pygments_lexer": "ipython3",
   "version": "3.11.0"
  }
 },
 "nbformat": 4,
 "nbformat_minor": 2
}
